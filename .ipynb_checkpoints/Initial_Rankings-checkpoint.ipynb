{
 "cells": [
  {
   "cell_type": "code",
   "execution_count": 3,
   "id": "a8e6dd8e",
   "metadata": {},
   "outputs": [
    {
     "data": {
      "text/html": [
       "<div>\n",
       "<style scoped>\n",
       "    .dataframe tbody tr th:only-of-type {\n",
       "        vertical-align: middle;\n",
       "    }\n",
       "\n",
       "    .dataframe tbody tr th {\n",
       "        vertical-align: top;\n",
       "    }\n",
       "\n",
       "    .dataframe thead th {\n",
       "        text-align: right;\n",
       "    }\n",
       "</style>\n",
       "<table border=\"1\" class=\"dataframe\">\n",
       "  <thead>\n",
       "    <tr style=\"text-align: right;\">\n",
       "      <th></th>\n",
       "      <th>[{\"player_name\":\"Lamar Jackson\"</th>\n",
       "      <th>pos:\"QB\"</th>\n",
       "      <th>projection:353.41</th>\n",
       "      <th>team:\"BAL\"}</th>\n",
       "      <th>{\"player_name\":\"Christian McCaffrey\"</th>\n",
       "      <th>pos:\"RB\"</th>\n",
       "      <th>projection:338.52</th>\n",
       "      <th>team:\"CAR\"}</th>\n",
       "      <th>{\"player_name\":\"Patrick Mahomes\"</th>\n",
       "      <th>pos:\"QB\".1</th>\n",
       "      <th>...</th>\n",
       "      <th>projection:115.58</th>\n",
       "      <th>team:\"IND\"}.8</th>\n",
       "      <th>{\"player_name\":\"Dan Bailey\"</th>\n",
       "      <th>pos:\"K\".18</th>\n",
       "      <th>projection:115.39</th>\n",
       "      <th>team:\"MIN\"}.3</th>\n",
       "      <th>{\"player_name\":\"Ka'imi Fairbairn\"</th>\n",
       "      <th>pos:\"K\".19</th>\n",
       "      <th>projection:115.28</th>\n",
       "      <th>team:\"HOU\"}]</th>\n",
       "    </tr>\n",
       "  </thead>\n",
       "  <tbody>\n",
       "  </tbody>\n",
       "</table>\n",
       "<p>0 rows × 800 columns</p>\n",
       "</div>"
      ],
      "text/plain": [
       "Empty DataFrame\n",
       "Columns: [[{\"player_name\":\"Lamar Jackson\", pos:\"QB\", projection:353.41, team:\"BAL\"}, {\"player_name\":\"Christian McCaffrey\", pos:\"RB\", projection:338.52, team:\"CAR\"}, {\"player_name\":\"Patrick Mahomes\", pos:\"QB\".1, projection:331.01, team:\"KC\"}, {\"player_name\":\"Deshaun Watson\", pos:\"QB\".2, projection:307.07, team:\"HOU\"}, {\"player_name\":\"Michael Thomas\", pos:\"WR\", projection:300.99, team:\"NO\"}, {\"player_name\":\"Dalvin Cook\", pos:\"RB\".1, projection:299.89, team:\"MIN\"}, {\"player_name\":\"Dak Prescott\", pos:\"QB\".3, projection:298.73, team:\"DAL\"}, {\"player_name\":\"Russell Wilson\", pos:\"QB\".4, projection:296.8, team:\"SEA\"}, {\"player_name\":\"Ezekiel Elliot\", pos:\"RB\".2, projection:292.63, team:\"DAL\"}.1, {\"player_name\":\"Saquon Barkley\", pos:\"RB\".3, projection:291.03, team:\"NYG\"}, {\"player_name\":\"Kyler Murray\", pos:\"QB\".5, projection:288.2, team:\"ARI\"}, {\"player_name\":\"Josh Allen\", pos:\"QB\".6, projection:285.9, team:\"BUF\"}, {\"player_name\":\"Tom Brady\", pos:\"QB\".7, projection:281.82, team:\"TAM\"}, {\"player_name\":\"Alvin Kamara\", pos:\"RB\".4, projection:279.9, team:\"NO\"}.1, {\"player_name\":\"Drew Brees\", pos:\"QB\".8, projection:273.04, team:\"NO\"}.2, {\"player_name\":\"Carson Wentz\", pos:\"QB\".9, projection:269.98, team:\"PHI\"}, {\"player_name\":\"DeAndre Hopkins\", pos:\"WR\".1, projection:268.42, team:\"ARI\"}.1, {\"player_name\":\"Matt Ryan\", pos:\"QB\".10, projection:268.28, team:\"ATL\"}, {\"player_name\":\"Aaron Rodgers\", pos:\"QB\".11, projection:266.29, team:\"GB\"}, {\"player_name\":\"Matthew Stafford\", pos:\"QB\".12, projection:264.47, team:\"DET\"}, {\"player_name\":\"Julio Jones\", pos:\"WR\".2, projection:262.85, team:\"ATL\"}.1, {\"player_name\":\"Travis Kelce\", pos:\"TE\", projection:262.77, team:\"KC\"}.1, {\"player_name\":\"Davante Adams\", pos:\"WR\".3, projection:261.75, team:\"GB\"}.1, {\"player_name\":\"Chris Godwin\", pos:\"WR\".4, projection:260.47, team:\"TB\"}, {\"player_name\":\"Mike Evans\", pos:\"WR\".5, projection:255.63, team:\"TB\"}.1, ...]\n",
       "Index: []\n",
       "\n",
       "[0 rows x 800 columns]"
      ]
     },
     "execution_count": 3,
     "metadata": {},
     "output_type": "execute_result"
    }
   ],
   "source": [
    "import pandas as pd\n",
    "df = pd.read_csv('FantasyPros_2021_Draft_ALL_Rankings.csv')\n",
    "df"
   ]
  },
  {
   "cell_type": "code",
   "execution_count": null,
   "id": "136c13de",
   "metadata": {},
   "outputs": [],
   "source": []
  }
 ],
 "metadata": {
  "kernelspec": {
   "display_name": "Python 3",
   "language": "python",
   "name": "python3"
  },
  "language_info": {
   "codemirror_mode": {
    "name": "ipython",
    "version": 3
   },
   "file_extension": ".py",
   "mimetype": "text/x-python",
   "name": "python",
   "nbconvert_exporter": "python",
   "pygments_lexer": "ipython3",
   "version": "3.8.8"
  }
 },
 "nbformat": 4,
 "nbformat_minor": 5
}
